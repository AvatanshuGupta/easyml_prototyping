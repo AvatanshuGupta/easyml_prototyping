{
 "cells": [
  {
   "cell_type": "code",
   "execution_count": 1,
   "id": "202ad834",
   "metadata": {},
   "outputs": [],
   "source": [
    "import numpy as np\n",
    "import pandas as pd"
   ]
  },
  {
   "cell_type": "code",
   "execution_count": 2,
   "id": "dcfdea74",
   "metadata": {},
   "outputs": [],
   "source": [
    "class covariance:\n",
    "    def __init__(self):\n",
    "        self.x_mean=None\n",
    "        self.y_mean=None\n",
    "        self.feat_len=None\n",
    "    \n",
    "    def cov(self,x,y):\n",
    "        if x.shape[0]!=y.shape[0]:\n",
    "            raise Exception(\"Data dimensions not matching\")\n",
    "        self.x_mean=np.mean(x)\n",
    "        self.y_mean=np.mean(y)\n",
    "        self.feat_len=x.shape[0]\n",
    "        return np.sum((x-self.x_mean)*(y-self.y_mean))/(self.feat_len-1)\n",
    "    \n",
    "    \n"
   ]
  },
  {
   "cell_type": "code",
   "execution_count": 3,
   "id": "9a12be2f",
   "metadata": {},
   "outputs": [
    {
     "name": "stdout",
     "output_type": "stream",
     "text": [
      "Custom Covariance: 0.054772832591662775\n",
      "NumPy Covariance: 0.05477283259166249\n",
      "Are they equal? True\n"
     ]
    }
   ],
   "source": [
    "np.random.seed(42)\n",
    "n_samples = 1000000\n",
    "x = np.random.rand(n_samples) * 100  # Random numbers between 0 and 100\n",
    "y = np.random.rand(n_samples) * 50   # Random numbers between 0 and 50\n",
    "\n",
    "# Custom covariance\n",
    "cov_calc = covariance()\n",
    "custom_cov = cov_calc.cov(x, y)\n",
    "\n",
    "# NumPy covariance\n",
    "numpy_cov = np.cov(x, y, bias=False)[0, 1]\n",
    "\n",
    "# Print results\n",
    "print(\"Custom Covariance:\", custom_cov)\n",
    "print(\"NumPy Covariance:\", numpy_cov)\n",
    "print(\"Are they equal?\", np.isclose(custom_cov, numpy_cov))\n"
   ]
  },
  {
   "cell_type": "code",
   "execution_count": 4,
   "id": "67558a06",
   "metadata": {},
   "outputs": [],
   "source": [
    "class Pearson_corr:\n",
    "    def __init__(self):\n",
    "        self.x_mean=None\n",
    "        self.y_mean=None\n",
    "        self.x_std=None\n",
    "        self.y_std=None\n",
    "        self.feat_len=None\n",
    "    \n",
    "    def corr(self,x,y):\n",
    "        if x.shape[0]!=y.shape[0]:\n",
    "            raise Exception(\"Data dimensions not matching\")\n",
    "        self.x_mean=np.mean(x)\n",
    "        self.y_mean=np.mean(y)\n",
    "        self.x_std=np.std(x,ddof=1)\n",
    "        self.y_std=np.std(y,ddof=1)\n",
    "        self.feat_len=x.shape[0]\n",
    "        return np.sum((x-self.x_mean)*(y-self.y_mean))/((self.x_std)*(self.y_std)*(self.feat_len-1))\n",
    "    "
   ]
  },
  {
   "cell_type": "code",
   "execution_count": 5,
   "id": "d9d5ca5a",
   "metadata": {},
   "outputs": [
    {
     "name": "stdout",
     "output_type": "stream",
     "text": [
      "Custom Pearson: 0.17799148871951043\n",
      "NumPy Pearson: 0.17799148871951048\n",
      "Almost equal? True\n"
     ]
    }
   ],
   "source": [
    "\n",
    "x = np.random.rand(100)\n",
    "y = np.random.rand(100)\n",
    "\n",
    "pearson = Pearson_corr()\n",
    "custom_r = pearson.corr(x, y)\n",
    "numpy_r = np.corrcoef(x, y)[0,1]\n",
    "\n",
    "print(\"Custom Pearson:\", custom_r)\n",
    "print(\"NumPy Pearson:\", numpy_r)\n",
    "print(\"Almost equal?\", np.isclose(custom_r, numpy_r))\n"
   ]
  }
 ],
 "metadata": {
  "kernelspec": {
   "display_name": "base",
   "language": "python",
   "name": "python3"
  },
  "language_info": {
   "codemirror_mode": {
    "name": "ipython",
    "version": 3
   },
   "file_extension": ".py",
   "mimetype": "text/x-python",
   "name": "python",
   "nbconvert_exporter": "python",
   "pygments_lexer": "ipython3",
   "version": "3.12.7"
  }
 },
 "nbformat": 4,
 "nbformat_minor": 5
}
