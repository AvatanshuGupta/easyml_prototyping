{
 "cells": [
  {
   "cell_type": "code",
   "execution_count": 66,
   "id": "6d7adba6",
   "metadata": {},
   "outputs": [],
   "source": [
    "import numpy as np\n",
    "import pandas as pd"
   ]
  },
  {
   "cell_type": "code",
   "execution_count": 67,
   "id": "e2ab1ffe",
   "metadata": {},
   "outputs": [],
   "source": [
    "class mlr:\n",
    "    def __init__(self):\n",
    "        self.coef=None\n",
    "        self.intercept=None\n",
    "\n",
    "    def fit(self,X_train,y_train):\n",
    "        X_train=np.insert(X_train,0,1,axis=1)\n",
    "        beta=np.linalg.inv(np.dot(X_train.T,X_train)).dot(X_train.T).dot(y_train)\n",
    "        self.intercept=beta[0]\n",
    "        self.coef=beta[1:]\n",
    "\n",
    "    def predict(self,X_test):\n",
    "        return np.dot(X_test,self.coef)+self.intercept\n",
    "        \n",
    "        "
   ]
  },
  {
   "cell_type": "code",
   "execution_count": 68,
   "id": "4f57c7fa",
   "metadata": {},
   "outputs": [],
   "source": [
    "df=pd.read_csv('data/Placement.csv')"
   ]
  },
  {
   "cell_type": "code",
   "execution_count": 69,
   "id": "a4003b30",
   "metadata": {},
   "outputs": [],
   "source": [
    "X=df['cgpa']\n",
    "y=df['package']\n",
    "X=np.array(X).reshape(-1,1)\n",
    "y=np.array(y)"
   ]
  },
  {
   "cell_type": "code",
   "execution_count": 70,
   "id": "90f94032",
   "metadata": {},
   "outputs": [
    {
     "data": {
      "text/plain": [
       "array([2.86225601, 3.36349665, 2.72190862, 1.97506006, 2.46126349,\n",
       "       2.83719397, 3.12791355])"
      ]
     },
     "execution_count": 70,
     "metadata": {},
     "output_type": "execute_result"
    }
   ],
   "source": [
    "from sklearn.model_selection import train_test_split\n",
    "from sklearn.linear_model import LinearRegression\n",
    "X_train, X_test, y_train, y_test = train_test_split(\n",
    "    X, y, test_size=0.33, random_state=42)\n",
    "\n",
    "lr=LinearRegression()\n",
    "lr.fit(X_train,y_train)\n",
    "lr.predict(X_test)"
   ]
  },
  {
   "cell_type": "code",
   "execution_count": 73,
   "id": "c0a56217",
   "metadata": {},
   "outputs": [
    {
     "name": "stdout",
     "output_type": "stream",
     "text": [
      "[0.50124065]\n",
      "-0.5912920555026511\n"
     ]
    }
   ],
   "source": [
    "print(lr.coef_)\n",
    "print(lr.intercept_)"
   ]
  },
  {
   "cell_type": "code",
   "execution_count": 71,
   "id": "8bac2596",
   "metadata": {},
   "outputs": [
    {
     "name": "stdout",
     "output_type": "stream",
     "text": [
      "X_train shape: (12, 1)\n",
      "y_train shape: (12,)\n",
      "X_test shape: (7, 1)\n",
      "y_test shape: (7,)\n"
     ]
    }
   ],
   "source": [
    "print(\"X_train shape:\", X_train.shape)\n",
    "print(\"y_train shape:\", y_train.shape)\n",
    "print(\"X_test shape:\", X_test.shape)\n",
    "print(\"y_test shape:\", y_test.shape)"
   ]
  },
  {
   "cell_type": "code",
   "execution_count": 72,
   "id": "67ff98b7",
   "metadata": {},
   "outputs": [
    {
     "data": {
      "text/plain": [
       "array([2.86225601, 3.36349665, 2.72190862, 1.97506006, 2.46126349,\n",
       "       2.83719397, 3.12791355])"
      ]
     },
     "execution_count": 72,
     "metadata": {},
     "output_type": "execute_result"
    }
   ],
   "source": [
    "newlr=mlr()\n",
    "newlr.fit(X_train,y_train)\n",
    "newlr.predict(X_test)"
   ]
  },
  {
   "cell_type": "code",
   "execution_count": 75,
   "id": "2599915e",
   "metadata": {},
   "outputs": [
    {
     "name": "stdout",
     "output_type": "stream",
     "text": [
      "[0.50124065]\n",
      "-0.5912920555026437\n"
     ]
    }
   ],
   "source": [
    "print(newlr.coef)\n",
    "print(newlr.intercept)"
   ]
  }
 ],
 "metadata": {
  "kernelspec": {
   "display_name": "base",
   "language": "python",
   "name": "python3"
  },
  "language_info": {
   "codemirror_mode": {
    "name": "ipython",
    "version": 3
   },
   "file_extension": ".py",
   "mimetype": "text/x-python",
   "name": "python",
   "nbconvert_exporter": "python",
   "pygments_lexer": "ipython3",
   "version": "3.12.7"
  }
 },
 "nbformat": 4,
 "nbformat_minor": 5
}
