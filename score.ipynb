{
 "cells": [
  {
   "cell_type": "code",
   "execution_count": 39,
   "id": "ffdfe389",
   "metadata": {},
   "outputs": [],
   "source": [
    "import numpy as np\n",
    "import pandas as pd"
   ]
  },
  {
   "cell_type": "code",
   "execution_count": 40,
   "id": "1fd0de63",
   "metadata": {},
   "outputs": [],
   "source": [
    "class score:\n",
    "    def __init__(self,y_test,y_pred):\n",
    "        \n",
    "        self.y_test=y_test\n",
    "        self.y_pred=y_pred\n",
    "        if self.y_test.shape[0]!=self.y_pred.shape[0]:\n",
    "            raise ValueError(\"Given values do not have same dimensions\")\n",
    "\n",
    "    def r2_score(self):\n",
    "        res=0\n",
    "        tot=0\n",
    "        y_mean=self.y_test.mean()\n",
    "\n",
    "        for i in range(self.y_test.shape[0]):\n",
    "            res+=(self.y_test[i]-self.y_pred[i])**2\n",
    "            tot+=(self.y_test[i]-y_mean)**2\n",
    "        if tot==0:\n",
    "            raise ValueError(\"r2 not defined\")\n",
    "        return 1-(res/tot)\n",
    "    \n",
    "    def adjusted_r2_score(self,n_features_in):\n",
    "   \n",
    "        r=self.r2_score()\n",
    "        p=n_features_in\n",
    "        n=self.y_test.shape[0]\n",
    "        return 1-((1-r)*(n-1)/(n-p-1))\n",
    "    \n",
    "    def mse(self):\n",
    "        n=self.y_test.shape[0]\n",
    "        mse=0\n",
    "       \n",
    "        for i in range(n):\n",
    "            mse+=(self.y_test[i]-self.y_pred[i])**2\n",
    "        return mse/n    \n",
    "\n",
    "    def rmse(self):\n",
    "        return np.sqrt(self.mse())\n",
    "\n",
    "    def mae(self):\n",
    "        n=self.y_test.shape[0]\n",
    "        mae=0\n",
    "       \n",
    "        for i in range(n):\n",
    "            mae+=abs(self.y_test[i]-self.y_pred[i])\n",
    "        return mae/n  "
   ]
  },
  {
   "cell_type": "code",
   "execution_count": 41,
   "id": "11d94f04",
   "metadata": {},
   "outputs": [],
   "source": [
    "from sklearn.metrics import r2_score, mean_squared_error, mean_absolute_error\n",
    "from sklearn.model_selection import train_test_split\n",
    "from sklearn.linear_model import LinearRegression\n",
    "df=pd.read_csv('data/Placement.csv')\n",
    "X=df['cgpa']\n",
    "y=df['package']\n",
    "X=np.array(X).reshape(-1,1)\n",
    "y=np.array(y)\n",
    "n_features_in = 2  # Assume 2 features were used in the model\n",
    "X_train, X_test, y_train, y_test = train_test_split(\n",
    "    X, y, test_size=0.33, random_state=42)"
   ]
  },
  {
   "cell_type": "code",
   "execution_count": 42,
   "id": "b542dee1",
   "metadata": {},
   "outputs": [],
   "source": [
    "lr=LinearRegression()\n",
    "lr.fit(X_train,y_train)\n",
    "y_pred=lr.predict(X_test)"
   ]
  },
  {
   "cell_type": "code",
   "execution_count": 43,
   "id": "5a7ae5cd",
   "metadata": {},
   "outputs": [
    {
     "name": "stdout",
     "output_type": "stream",
     "text": [
      "Custom R² Score: 0.5934776212622067\n",
      "Sklearn R² Score: 0.5934776212622067\n",
      "Custom Adjusted R² Score: 0.3902164318933101\n",
      "Sklearn Adjusted R² Score: 0.3902164318933101\n",
      "Custom MSE: 0.1238117830883945\n",
      "Sklearn MSE: 0.1238117830883945\n",
      "Custom RMSE: 0.3518689856869947\n",
      "Sklearn RMSE: 0.3518689856869947\n",
      "Custom MAE: 0.29694758924927606\n",
      "Sklearn MAE: 0.29694758924927606\n"
     ]
    },
    {
     "name": "stderr",
     "output_type": "stream",
     "text": [
      "c:\\Users\\avata\\anaconda3\\Lib\\site-packages\\sklearn\\metrics\\_regression.py:492: FutureWarning: 'squared' is deprecated in version 1.4 and will be removed in 1.6. To calculate the root mean squared error, use the function'root_mean_squared_error'.\n",
      "  warnings.warn(\n"
     ]
    }
   ],
   "source": [
    "custom_score = score(y_test, y_pred)\n",
    "\n",
    "print(\"Custom R² Score:\", custom_score.r2_score())\n",
    "print(\"Sklearn R² Score:\", r2_score(y_test, y_pred))\n",
    "print(\"Custom Adjusted R² Score:\", custom_score.adjusted_r2_score(n_features_in))\n",
    "r2 = r2_score(y_test, y_pred)\n",
    "n = len(y_test)\n",
    "p = n_features_in\n",
    "adjusted_r2 = 1 - ((1 - r2) * (n - 1) / (n - p - 1))\n",
    "print(\"Sklearn Adjusted R² Score:\", adjusted_r2)\n",
    "\n",
    "print(\"Custom MSE:\", custom_score.mse())\n",
    "print(\"Sklearn MSE:\", mean_squared_error(y_test, y_pred))\n",
    "\n",
    "print(\"Custom RMSE:\", custom_score.rmse())\n",
    "print(\"Sklearn RMSE:\", mean_squared_error(y_test, y_pred, squared=False))\n",
    "\n",
    "print(\"Custom MAE:\", custom_score.mae())\n",
    "print(\"Sklearn MAE:\", mean_absolute_error(y_test, y_pred))"
   ]
  }
 ],
 "metadata": {
  "kernelspec": {
   "display_name": "base",
   "language": "python",
   "name": "python3"
  },
  "language_info": {
   "codemirror_mode": {
    "name": "ipython",
    "version": 3
   },
   "file_extension": ".py",
   "mimetype": "text/x-python",
   "name": "python",
   "nbconvert_exporter": "python",
   "pygments_lexer": "ipython3",
   "version": "3.12.7"
  }
 },
 "nbformat": 4,
 "nbformat_minor": 5
}
