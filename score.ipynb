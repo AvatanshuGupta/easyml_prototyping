{
 "cells": [
  {
   "cell_type": "code",
   "execution_count": 1,
   "id": "ffdfe389",
   "metadata": {},
   "outputs": [],
   "source": [
    "import numpy as np\n",
    "import pandas as pd"
   ]
  },
  {
   "cell_type": "code",
   "execution_count": null,
   "id": "1fd0de63",
   "metadata": {},
   "outputs": [],
   "source": [
    "class score:\n",
    "    def __init__(self,y_test,y_pred):\n",
    "        if self.y_test.shape[0]!=self.y_pred.shape[0]:\n",
    "            raise ValueError(\"Given values do not have same dimensions\")\n",
    "        self.y_test=y_test\n",
    "        self.y_pred=y_pred\n",
    "\n",
    "    def r2_score(self):\n",
    "        res=0\n",
    "        tot=0\n",
    "        y_mean=self.y_test.mean()\n",
    "\n",
    "        for i in range(self.y_test.shape[0]):\n",
    "            res+=(self.y_test[i]-self.y_pred[i])**2\n",
    "            tot+=(self.y_test[i]-y_mean)**2\n",
    "        if tot==0:\n",
    "            raise ValueError(\"r2 not defined\")\n",
    "        return 1-(res/tot)\n",
    "    \n",
    "    def adjusted_r2_score(self,n_features_in):\n",
    "   \n",
    "        r=self.r2_score()\n",
    "        p=n_features_in\n",
    "        n=self.y_test.shape[0]\n",
    "        return 1-((1-r)*(n-1)/(n-p-1))\n",
    "    \n",
    "    def mse(self):\n",
    "        n=self.y_test.shape[0]\n",
    "        mse=0\n",
    "       \n",
    "        for i in range(n):\n",
    "            mse+=(self.y_test[i]-self.y_pred[i])**2\n",
    "        return mse/n    \n",
    "\n",
    "    def rmse(self):\n",
    "        return np.sqrt(self.mse())\n",
    "\n",
    "    def mae(self):\n",
    "        n=self.y_test.shape[0]\n",
    "        mae=0\n",
    "       \n",
    "        for i in range(n):\n",
    "            mae+=abs(self.y_test[i]-self.y_pred[i])\n",
    "        return mae/n  "
   ]
  }
 ],
 "metadata": {
  "kernelspec": {
   "display_name": "base",
   "language": "python",
   "name": "python3"
  },
  "language_info": {
   "codemirror_mode": {
    "name": "ipython",
    "version": 3
   },
   "file_extension": ".py",
   "mimetype": "text/x-python",
   "name": "python",
   "nbconvert_exporter": "python",
   "pygments_lexer": "ipython3",
   "version": "3.12.7"
  }
 },
 "nbformat": 4,
 "nbformat_minor": 5
}
