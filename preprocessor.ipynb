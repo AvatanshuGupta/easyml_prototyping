{
 "cells": [
  {
   "cell_type": "code",
   "execution_count": 16,
   "id": "141696e8",
   "metadata": {},
   "outputs": [],
   "source": [
    "import numpy as np\n",
    "import pandas as pd"
   ]
  },
  {
   "cell_type": "code",
   "execution_count": 17,
   "id": "4efdb48f",
   "metadata": {},
   "outputs": [],
   "source": [
    "class StandardScaler:\n",
    "    def __init__(self):\n",
    "        self.mean=None\n",
    "        self.std=None\n",
    "    \n",
    "    def fit(self,X_train):\n",
    "        self.mean=X_train.mean(axis=0)\n",
    "        self.std=X_train.std(axis=0)\n",
    "        self.std[self.std==0]=1\n",
    "        return self\n",
    "    \n",
    "    def fit_transform(self,X_train):\n",
    "        self.fit(X_train)\n",
    "        return (X_train-self.mean)/self.std\n",
    "    \n",
    "    def transform(self,X_test):\n",
    "        return (X_test-self.mean)/self.std\n",
    "\n",
    "\n",
    "\n"
   ]
  },
  {
   "cell_type": "code",
   "execution_count": 18,
   "id": "7c8dda19",
   "metadata": {},
   "outputs": [],
   "source": [
    "class MinMaxScaler:\n",
    "    def __init__(self,min=0,max=1):\n",
    "        self.min=min\n",
    "        self.max=max\n",
    "        self.range=max-min\n",
    "        self.min_val=None\n",
    "        self.max_val=None\n",
    "        if self.range<0:\n",
    "            raise Exception(\"Min value is greater than max value\")\n",
    "        \n",
    "    def fit(self,x):\n",
    "        self.max_val=np.max(x,axis=0)\n",
    "        self.min_val=np.min(x,axis=0)\n",
    "        self.scale_=np.where(self.max_val-self.min_val==0,1,self.max_val-self.min_val)\n",
    "        return self\n",
    "    \n",
    "    def fit_transform(self,x):\n",
    "        self.fit(x)\n",
    "        return self.min+(x-self.min_val)*(self.range)/self.scale_\n",
    "    \n",
    "    def transform(self,x):\n",
    "        return self.min+(x-self.min_val)*(self.range)/self.scale_\n",
    "\n",
    "\n"
   ]
  },
  {
   "cell_type": "markdown",
   "id": "86cacd46",
   "metadata": {},
   "source": [
    "# Testing StandardScaler\n"
   ]
  },
  {
   "cell_type": "code",
   "execution_count": 19,
   "id": "694146ab",
   "metadata": {},
   "outputs": [
    {
     "name": "stdout",
     "output_type": "stream",
     "text": [
      "Custom Scaler - Train:\n",
      " [[-1.22474487 -1.22474487 -1.22474487]\n",
      " [ 0.          0.          0.        ]\n",
      " [ 1.22474487  1.22474487  1.22474487]]\n",
      "Sklearn Scaler - Train:\n",
      " [[-1.22474487 -1.22474487 -1.22474487]\n",
      " [ 0.          0.          0.        ]\n",
      " [ 1.22474487  1.22474487  1.22474487]]\n",
      "\n",
      "Custom Scaler - Test:\n",
      " [[-0.81649658 -0.81649658 -0.81649658]\n",
      " [ 0.40824829  0.40824829  0.40824829]]\n",
      "Sklearn Scaler - Test:\n",
      " [[-0.81649658 -0.81649658 -0.81649658]\n",
      " [ 0.40824829  0.40824829  0.40824829]]\n"
     ]
    }
   ],
   "source": [
    "from sklearn.preprocessing import StandardScaler as SklearnScaler\n",
    "\n",
    "\n",
    "\n",
    "# Sample data\n",
    "X_train = np.array([[1, 2, 3],\n",
    "                    [4, 5, 6],\n",
    "                    [7, 8, 9]], dtype=float)\n",
    "\n",
    "X_test = np.array([[2, 3, 4],\n",
    "                   [5, 6, 7]], dtype=float)\n",
    "\n",
    "# Using custom scaler\n",
    "custom_scaler = StandardScaler()\n",
    "X_train_custom = custom_scaler.fit_transform(X_train)\n",
    "X_test_custom = custom_scaler.transform(X_test)\n",
    "\n",
    "# Using sklearn scaler\n",
    "sklearn_scaler = SklearnScaler()\n",
    "X_train_sklearn = sklearn_scaler.fit_transform(X_train)\n",
    "X_test_sklearn = sklearn_scaler.transform(X_test)\n",
    "\n",
    "# Compare results\n",
    "print(\"Custom Scaler - Train:\\n\", X_train_custom)\n",
    "print(\"Sklearn Scaler - Train:\\n\", X_train_sklearn)\n",
    "print(\"\\nCustom Scaler - Test:\\n\", X_test_custom)\n",
    "print(\"Sklearn Scaler - Test:\\n\", X_test_sklearn)\n"
   ]
  },
  {
   "cell_type": "code",
   "execution_count": 20,
   "id": "3f1545e0",
   "metadata": {},
   "outputs": [
    {
     "data": {
      "text/plain": [
       "array([4., 5., 6.])"
      ]
     },
     "execution_count": 20,
     "metadata": {},
     "output_type": "execute_result"
    }
   ],
   "source": [
    "custom_scaler.mean"
   ]
  },
  {
   "cell_type": "code",
   "execution_count": 21,
   "id": "62fd6b8b",
   "metadata": {},
   "outputs": [
    {
     "data": {
      "text/plain": [
       "array([2.44948974, 2.44948974, 2.44948974])"
      ]
     },
     "execution_count": 21,
     "metadata": {},
     "output_type": "execute_result"
    }
   ],
   "source": [
    "custom_scaler.std"
   ]
  },
  {
   "cell_type": "code",
   "execution_count": 22,
   "id": "f9e50494",
   "metadata": {},
   "outputs": [
    {
     "data": {
      "text/plain": [
       "array([4., 5., 6.])"
      ]
     },
     "execution_count": 22,
     "metadata": {},
     "output_type": "execute_result"
    }
   ],
   "source": [
    "sklearn_scaler.mean_"
   ]
  },
  {
   "cell_type": "code",
   "execution_count": 23,
   "id": "ad7a7bf9",
   "metadata": {},
   "outputs": [
    {
     "data": {
      "text/plain": [
       "array([2.44948974, 2.44948974, 2.44948974])"
      ]
     },
     "execution_count": 23,
     "metadata": {},
     "output_type": "execute_result"
    }
   ],
   "source": [
    "sklearn_scaler.scale_"
   ]
  },
  {
   "cell_type": "code",
   "execution_count": 24,
   "id": "f1f9e1e8",
   "metadata": {},
   "outputs": [
    {
     "data": {
      "text/plain": [
       "array([6., 6., 6.])"
      ]
     },
     "execution_count": 24,
     "metadata": {},
     "output_type": "execute_result"
    }
   ],
   "source": [
    "sklearn_scaler.var_"
   ]
  },
  {
   "cell_type": "markdown",
   "id": "d9c39db5",
   "metadata": {},
   "source": [
    "# Testing MinMaxScaler"
   ]
  },
  {
   "cell_type": "code",
   "execution_count": null,
   "id": "87f63cd9",
   "metadata": {},
   "outputs": [
    {
     "name": "stdout",
     "output_type": "stream",
     "text": [
      "Custom Scaler - Train:\n",
      " [[0.  0. ]\n",
      " [0.5 0.5]\n",
      " [1.  1. ]]\n",
      "Sklearn Scaler - Train:\n",
      " [[0.  0. ]\n",
      " [0.5 0.5]\n",
      " [1.  1. ]]\n",
      "\n",
      "Custom Scaler - Test:\n",
      " [[0.25 0.25]\n",
      " [0.75 0.75]]\n",
      "Sklearn Scaler - Test:\n",
      " [[0.25 0.25]\n",
      " [0.75 0.75]]\n",
      "\n",
      "Train arrays equal: True\n",
      "Test arrays equal: True\n"
     ]
    }
   ],
   "source": [
    "import numpy as np\n",
    "from sklearn.preprocessing import MinMaxScaler as SklearnMinMaxScaler\n",
    "\n",
    "\n",
    "\n",
    "# Sample data\n",
    "X_train = np.array([[1, 2],\n",
    "                    [3, 4],\n",
    "                    [5, 6]], dtype=float)\n",
    "\n",
    "X_test = np.array([[2, 3],\n",
    "                   [4, 5]], dtype=float)\n",
    "\n",
    "# Custom scaler\n",
    "custom_scaler = MinMaxScaler(min=0, max=1)\n",
    "X_train_custom = custom_scaler.fit_transform(X_train)\n",
    "X_test_custom = custom_scaler.transform(X_test)\n",
    "\n",
    "# Sklearn scaler\n",
    "sklearn_scaler = SklearnMinMaxScaler(feature_range=(0, 1))\n",
    "X_train_sklearn = sklearn_scaler.fit_transform(X_train)\n",
    "X_test_sklearn = sklearn_scaler.transform(X_test)\n",
    "\n",
    "# Compare results\n",
    "print(\"Custom Scaler - Train:\\n\", X_train_custom)\n",
    "print(\"Sklearn Scaler - Train:\\n\", X_train_sklearn)\n",
    "print(\"\\nCustom Scaler - Test:\\n\", X_test_custom)\n",
    "print(\"Sklearn Scaler - Test:\\n\", X_test_sklearn)\n",
    "\n",
    "\n",
    "print(\"\\nTrain arrays equal:\", np.allclose(X_train_custom, X_train_sklearn))\n",
    "print(\"Test arrays equal:\", np.allclose(X_test_custom, X_test_sklearn))\n"
   ]
  }
 ],
 "metadata": {
  "kernelspec": {
   "display_name": "base",
   "language": "python",
   "name": "python3"
  },
  "language_info": {
   "codemirror_mode": {
    "name": "ipython",
    "version": 3
   },
   "file_extension": ".py",
   "mimetype": "text/x-python",
   "name": "python",
   "nbconvert_exporter": "python",
   "pygments_lexer": "ipython3",
   "version": "3.12.7"
  }
 },
 "nbformat": 4,
 "nbformat_minor": 5
}
