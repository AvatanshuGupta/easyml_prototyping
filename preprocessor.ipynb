{
 "cells": [
  {
   "cell_type": "code",
   "execution_count": 1,
   "id": "141696e8",
   "metadata": {},
   "outputs": [],
   "source": [
    "import numpy as np\n",
    "import pandas as pd"
   ]
  },
  {
   "cell_type": "code",
   "execution_count": null,
   "id": "4efdb48f",
   "metadata": {},
   "outputs": [],
   "source": [
    "class StandardScaler:\n",
    "    def __init__(self):\n",
    "        self.mean=None\n",
    "        self.std=None\n",
    "    \n",
    "    def fit(self,X_train):\n",
    "        self.mean=X_train.mean(axis=0)\n",
    "        self.std=X_train.std(axis=0)\n",
    "        self.std[self.std==0]=1\n",
    "        return self\n",
    "    \n",
    "    def fit_transform(self,X_train):\n",
    "        self.fit()\n",
    "        return (X_train-self.mean)/self.std\n",
    "    \n",
    "    def transform(self,X_test):\n",
    "        return self.fit_transfrom(X_test)\n",
    "\n",
    "\n",
    "\n"
   ]
  },
  {
   "cell_type": "code",
   "execution_count": null,
   "id": "694146ab",
   "metadata": {},
   "outputs": [],
   "source": []
  }
 ],
 "metadata": {
  "kernelspec": {
   "display_name": "base",
   "language": "python",
   "name": "python3"
  },
  "language_info": {
   "codemirror_mode": {
    "name": "ipython",
    "version": 3
   },
   "file_extension": ".py",
   "mimetype": "text/x-python",
   "name": "python",
   "nbconvert_exporter": "python",
   "pygments_lexer": "ipython3",
   "version": "3.12.7"
  }
 },
 "nbformat": 4,
 "nbformat_minor": 5
}
