{
 "cells": [
  {
   "cell_type": "code",
   "execution_count": 6,
   "id": "141696e8",
   "metadata": {},
   "outputs": [],
   "source": [
    "import numpy as np\n",
    "import pandas as pd"
   ]
  },
  {
   "cell_type": "markdown",
   "id": "8143f3fb",
   "metadata": {},
   "source": [
    "# Standard Scaler"
   ]
  },
  {
   "cell_type": "code",
   "execution_count": 2,
   "id": "4efdb48f",
   "metadata": {},
   "outputs": [],
   "source": [
    "class StandardScaler:\n",
    "    def __init__(self):\n",
    "        self.mean=None\n",
    "        self.std=None\n",
    "    \n",
    "    def fit(self,X_train):\n",
    "        self.mean=X_train.mean(axis=0)\n",
    "        self.std=X_train.std(axis=0)\n",
    "        self.std[self.std==0]=1\n",
    "        return self\n",
    "    \n",
    "    def fit_transform(self,X_train):\n",
    "        self.fit(X_train)\n",
    "        return (X_train-self.mean)/self.std\n",
    "    \n",
    "    def transform(self,X_test):\n",
    "        return (X_test-self.mean)/self.std\n",
    "\n",
    "\n",
    "\n"
   ]
  },
  {
   "cell_type": "markdown",
   "id": "a2991889",
   "metadata": {},
   "source": [
    "# MinMax Scaler"
   ]
  },
  {
   "cell_type": "code",
   "execution_count": 3,
   "id": "7c8dda19",
   "metadata": {},
   "outputs": [],
   "source": [
    "class MinMaxScaler:\n",
    "    def __init__(self,min=0,max=1):\n",
    "        self.min=min\n",
    "        self.max=max\n",
    "        self.range=max-min\n",
    "        self.min_val=None\n",
    "        self.max_val=None\n",
    "        if self.range<0:\n",
    "            raise Exception(\"Min value is greater than max value\")\n",
    "        \n",
    "    def fit(self,x):\n",
    "        self.max_val=np.max(x,axis=0)\n",
    "        self.min_val=np.min(x,axis=0)\n",
    "        self.scale_=np.where(self.max_val-self.min_val==0,1,self.max_val-self.min_val)\n",
    "        return self\n",
    "    \n",
    "    def fit_transform(self,x):\n",
    "        self.fit(x)\n",
    "        return self.min+(x-self.min_val)*(self.range)/self.scale_\n",
    "    \n",
    "    def transform(self,x):\n",
    "        return self.min+(x-self.min_val)*(self.range)/self.scale_\n",
    "\n",
    "\n"
   ]
  },
  {
   "cell_type": "markdown",
   "id": "fd3d0b34",
   "metadata": {},
   "source": [
    "# MaxabsScaler"
   ]
  },
  {
   "cell_type": "code",
   "execution_count": 11,
   "id": "ec1e658e",
   "metadata": {},
   "outputs": [],
   "source": [
    "class MaxAbsScaler:\n",
    "    def __init__(self):\n",
    "        self.Absmax=None\n",
    "    \n",
    "    def fit(self,x):\n",
    "        self.Absmax=np.max(abs(x),axis=0)\n",
    "        self.scale_=np.where(self.Absmax==0,1,self.Absmax)\n",
    "        return self\n",
    "    \n",
    "    def fit_transform(self,x):\n",
    "        self.fit(x)\n",
    "        return x/self.scale_\n",
    "    \n",
    "    def transform(self,x):\n",
    "        return x/self.scale_\n",
    "    \n"
   ]
  },
  {
   "cell_type": "markdown",
   "id": "1b2d8535",
   "metadata": {},
   "source": [
    "# MeanScaler"
   ]
  },
  {
   "cell_type": "code",
   "execution_count": null,
   "id": "ecca7416",
   "metadata": {},
   "outputs": [],
   "source": [
    "class MeanScaler:\n",
    "    def __init__(self):\n",
    "        self.mean=None\n",
    "    \n",
    "    def fit(self,X_train):\n",
    "        self.mean=X_train.mean(axis=0)   \n",
    "        return self\n",
    "    \n",
    "    def fit_transform(self,X_train):\n",
    "        self.fit(X_train)\n",
    "        return X_train-self.mean\n",
    "    \n",
    "    def transform(self,X_test):\n",
    "        return X_test-self.mean\n",
    "\n",
    "\n"
   ]
  },
  {
   "cell_type": "markdown",
   "id": "8d7aa9a0",
   "metadata": {},
   "source": [
    "# simple imputer"
   ]
  },
  {
   "cell_type": "code",
   "execution_count": 7,
   "id": "2d91ed77",
   "metadata": {},
   "outputs": [],
   "source": [
    "from collections import Counter\n",
    "class SimpleImputer:\n",
    "    def __init__(self,fill_value='mean'):\n",
    "        self.fill_value=fill_value\n",
    "\n",
    "    def fill(self,X):\n",
    "        X=np.array(X,dtype=float)\n",
    "        if self.fill_value=='mean':\n",
    "            mean=np.nanmean(X)\n",
    "            X[np.isnan(X)]=mean\n",
    "\n",
    "        elif self.fill_value=='mode':\n",
    "            non_nan=X[~np.isnan(X)]\n",
    "            count=Counter(non_nan)\n",
    "            mode=count.most_common(1)[0][0]\n",
    "            X[np.isnan(X)]=mode\n",
    "            \n",
    "\n",
    "        elif self.fill_value=='median':\n",
    "            median=np.nanmedian(X)\n",
    "            X[np.isnan(X)]=median     \n",
    "\n",
    "        elif isinstance(self.fill_value,(float,int)):\n",
    "            X[np.isnan(X)]=self.fill_value\n",
    "\n",
    "        else:\n",
    "            raise ValueError(f\"Invalid Fill value. Choose from 'mean', 'median', 'mode', or a number.\")\n",
    "        \n",
    "        return X\n",
    "        \n",
    "\n",
    "\n",
    "\n",
    "\n",
    "        "
   ]
  },
  {
   "cell_type": "markdown",
   "id": "b2cfc55c",
   "metadata": {},
   "source": [
    "# testing Simpleimputer"
   ]
  },
  {
   "cell_type": "code",
   "execution_count": 8,
   "id": "81a10c2f",
   "metadata": {},
   "outputs": [
    {
     "name": "stdout",
     "output_type": "stream",
     "text": [
      "Test Case: large_random_mean\n",
      "Original (first 20 elements): [ 5.  2.  4.  5.  5. nan  2.  4. nan  3.  2.  2.  5. nan nan nan  5.  3.\n",
      "  5.  2.]\n",
      "Filled   (first 20 elements): [5.         2.         4.         5.         5.         3.10526316\n",
      " 2.         4.         3.10526316 3.         2.         2.\n",
      " 5.         3.10526316 3.10526316 3.10526316 5.         3.\n",
      " 5.         2.        ]\n",
      "\n",
      "Test Case: large_random_median\n",
      "Original (first 20 elements): [nan 50. 10. nan 50. nan 30. 30. 50. 50. nan 50. nan 40. nan 40. 40. 30.\n",
      " 50. 10.]\n",
      "Filled   (first 20 elements): [30. 50. 10. 30. 50. 30. 30. 30. 50. 50. 30. 50. 30. 40. 30. 40. 40. 30.\n",
      " 50. 10.]\n",
      "\n",
      "Test Case: large_random_mode\n",
      "Original (first 20 elements): [ 1.  1.  4.  1. nan  3.  1.  4.  3.  2. nan  1.  1.  4.  1. nan  2.  1.\n",
      "  3.  2.]\n",
      "Filled   (first 20 elements): [1. 1. 4. 1. 1. 3. 1. 4. 3. 2. 1. 1. 1. 4. 1. 1. 2. 1. 3. 2.]\n",
      "\n",
      "Test Case: large_random_constant\n",
      "Original (first 20 elements): [15. nan  5. 10. nan 15. 10. nan nan 15. nan nan 15. 10. nan 10. 15. 10.\n",
      " 15.  5.]\n",
      "Filled   (first 20 elements): [ 15. 999.   5.  10. 999.  15.  10. 999. 999.  15. 999. 999.  15.  10.\n",
      " 999.  10.  15.  10.  15.   5.]\n",
      "\n",
      "Test Case: all_NaN_large\n",
      "Original (first 20 elements): [nan nan nan nan nan nan nan nan nan nan nan nan nan nan nan nan nan nan\n",
      " nan nan]\n",
      "Filled   (first 20 elements): [nan nan nan nan nan nan nan nan nan nan nan nan nan nan nan nan nan nan\n",
      " nan nan]\n",
      "\n",
      "Test Case: no_NaN_large\n",
      "Original (first 20 elements): [ 1  2  3  4  5  6  7  8  9 10 11 12 13 14 15 16 17 18 19 20]\n",
      "Filled   (first 20 elements): [ 1.  2.  3.  4.  5.  6.  7.  8.  9. 10. 11. 12. 13. 14. 15. 16. 17. 18.\n",
      " 19. 20.]\n",
      "\n",
      "Test Case: mixed_types_large\n",
      "Original (first 20 elements): [1.  2.5 nan 3.  4.5 nan 2.  1.  nan]\n",
      "Filled   (first 20 elements): [1.   2.5  2.25 3.   4.5  2.25 2.   1.   2.25]\n",
      "\n"
     ]
    },
    {
     "name": "stderr",
     "output_type": "stream",
     "text": [
      "C:\\Users\\avata\\AppData\\Local\\Temp\\ipykernel_3012\\3144169560.py:9: RuntimeWarning: Mean of empty slice\n",
      "  mean=np.nanmean(X)\n"
     ]
    }
   ],
   "source": [
    "\n",
    "# ---------------- Large Test Cases ----------------\n",
    "test_cases = {\n",
    "    \"large_random_mean\": (np.random.choice([np.nan, 1, 2, 3, 4, 5], size=50), 'mean'),\n",
    "    \"large_random_median\": (np.random.choice([np.nan, 10, 20, 30, 40, 50], size=100), 'median'),\n",
    "    \"large_random_mode\": (np.random.choice([np.nan, 1, 1, 2, 3, 4], size=60), 'mode'),\n",
    "    \"large_random_constant\": (np.random.choice([np.nan, 5, 10, 15], size=40), 999),\n",
    "    \"all_NaN_large\": (np.full(30, np.nan), 'mean'),\n",
    "    \"no_NaN_large\": (np.arange(1, 51), 'mode'),\n",
    "    \"mixed_types_large\": (np.array([1, 2.5, np.nan, 3, 4.5, np.nan, 2, 1, np.nan]), 'median')\n",
    "}\n",
    "\n",
    "# ---------------- Run Tests ----------------\n",
    "for name, (data, strategy) in test_cases.items():\n",
    "    print(f\"Test Case: {name}\")\n",
    "    imputer = SimpleImputer(strategy)\n",
    "    try:\n",
    "        filled = imputer.fill(data)\n",
    "        print(f\"Original (first 20 elements): {np.array(data)[:20]}\")\n",
    "        print(f\"Filled   (first 20 elements): {filled[:20]}\\n\")\n",
    "    except Exception as e:\n",
    "        print(f\"Raised Exception: {e}\\n\")\n"
   ]
  },
  {
   "cell_type": "markdown",
   "id": "86cacd46",
   "metadata": {},
   "source": [
    "# Testing StandardScaler\n"
   ]
  },
  {
   "cell_type": "code",
   "execution_count": 4,
   "id": "694146ab",
   "metadata": {},
   "outputs": [
    {
     "name": "stdout",
     "output_type": "stream",
     "text": [
      "Custom Scaler - Train:\n",
      " [[-1.22474487 -1.22474487 -1.22474487]\n",
      " [ 0.          0.          0.        ]\n",
      " [ 1.22474487  1.22474487  1.22474487]]\n",
      "Sklearn Scaler - Train:\n",
      " [[-1.22474487 -1.22474487 -1.22474487]\n",
      " [ 0.          0.          0.        ]\n",
      " [ 1.22474487  1.22474487  1.22474487]]\n",
      "\n",
      "Custom Scaler - Test:\n",
      " [[-0.81649658 -0.81649658 -0.81649658]\n",
      " [ 0.40824829  0.40824829  0.40824829]]\n",
      "Sklearn Scaler - Test:\n",
      " [[-0.81649658 -0.81649658 -0.81649658]\n",
      " [ 0.40824829  0.40824829  0.40824829]]\n"
     ]
    }
   ],
   "source": [
    "from sklearn.preprocessing import StandardScaler as SklearnScaler\n",
    "\n",
    "\n",
    "\n",
    "# Sample data\n",
    "X_train = np.array([[1, 2, 3],\n",
    "                    [4, 5, 6],\n",
    "                    [7, 8, 9]], dtype=float)\n",
    "\n",
    "X_test = np.array([[2, 3, 4],\n",
    "                   [5, 6, 7]], dtype=float)\n",
    "\n",
    "# Using custom scaler\n",
    "custom_scaler = StandardScaler()\n",
    "X_train_custom = custom_scaler.fit_transform(X_train)\n",
    "X_test_custom = custom_scaler.transform(X_test)\n",
    "\n",
    "# Using sklearn scaler\n",
    "sklearn_scaler = SklearnScaler()\n",
    "X_train_sklearn = sklearn_scaler.fit_transform(X_train)\n",
    "X_test_sklearn = sklearn_scaler.transform(X_test)\n",
    "\n",
    "# Compare results\n",
    "print(\"Custom Scaler - Train:\\n\", X_train_custom)\n",
    "print(\"Sklearn Scaler - Train:\\n\", X_train_sklearn)\n",
    "print(\"\\nCustom Scaler - Test:\\n\", X_test_custom)\n",
    "print(\"Sklearn Scaler - Test:\\n\", X_test_sklearn)\n"
   ]
  },
  {
   "cell_type": "code",
   "execution_count": 5,
   "id": "3f1545e0",
   "metadata": {},
   "outputs": [
    {
     "data": {
      "text/plain": [
       "array([4., 5., 6.])"
      ]
     },
     "execution_count": 5,
     "metadata": {},
     "output_type": "execute_result"
    }
   ],
   "source": [
    "custom_scaler.mean"
   ]
  },
  {
   "cell_type": "code",
   "execution_count": 6,
   "id": "62fd6b8b",
   "metadata": {},
   "outputs": [
    {
     "data": {
      "text/plain": [
       "array([2.44948974, 2.44948974, 2.44948974])"
      ]
     },
     "execution_count": 6,
     "metadata": {},
     "output_type": "execute_result"
    }
   ],
   "source": [
    "custom_scaler.std"
   ]
  },
  {
   "cell_type": "code",
   "execution_count": 7,
   "id": "f9e50494",
   "metadata": {},
   "outputs": [
    {
     "data": {
      "text/plain": [
       "array([4., 5., 6.])"
      ]
     },
     "execution_count": 7,
     "metadata": {},
     "output_type": "execute_result"
    }
   ],
   "source": [
    "sklearn_scaler.mean_"
   ]
  },
  {
   "cell_type": "code",
   "execution_count": 8,
   "id": "ad7a7bf9",
   "metadata": {},
   "outputs": [
    {
     "data": {
      "text/plain": [
       "array([2.44948974, 2.44948974, 2.44948974])"
      ]
     },
     "execution_count": 8,
     "metadata": {},
     "output_type": "execute_result"
    }
   ],
   "source": [
    "sklearn_scaler.scale_"
   ]
  },
  {
   "cell_type": "code",
   "execution_count": 9,
   "id": "f1f9e1e8",
   "metadata": {},
   "outputs": [
    {
     "data": {
      "text/plain": [
       "array([6., 6., 6.])"
      ]
     },
     "execution_count": 9,
     "metadata": {},
     "output_type": "execute_result"
    }
   ],
   "source": [
    "sklearn_scaler.var_"
   ]
  },
  {
   "cell_type": "markdown",
   "id": "d9c39db5",
   "metadata": {},
   "source": [
    "# Testing MinMaxScaler"
   ]
  },
  {
   "cell_type": "code",
   "execution_count": 10,
   "id": "87f63cd9",
   "metadata": {},
   "outputs": [
    {
     "name": "stdout",
     "output_type": "stream",
     "text": [
      "Custom Scaler - Train:\n",
      " [[0.  0. ]\n",
      " [0.5 0.5]\n",
      " [1.  1. ]]\n",
      "Sklearn Scaler - Train:\n",
      " [[0.  0. ]\n",
      " [0.5 0.5]\n",
      " [1.  1. ]]\n",
      "\n",
      "Custom Scaler - Test:\n",
      " [[0.25 0.25]\n",
      " [0.75 0.75]]\n",
      "Sklearn Scaler - Test:\n",
      " [[0.25 0.25]\n",
      " [0.75 0.75]]\n",
      "\n",
      "Train arrays equal: True\n",
      "Test arrays equal: True\n"
     ]
    }
   ],
   "source": [
    "import numpy as np\n",
    "from sklearn.preprocessing import MinMaxScaler as SklearnMinMaxScaler\n",
    "\n",
    "\n",
    "\n",
    "# Sample data\n",
    "X_train = np.array([[1, 2],\n",
    "                    [3, 4],\n",
    "                    [5, 6]], dtype=float)\n",
    "\n",
    "X_test = np.array([[2, 3],\n",
    "                   [4, 5]], dtype=float)\n",
    "\n",
    "# Custom scaler\n",
    "custom_scaler = MinMaxScaler(min=0, max=1)\n",
    "X_train_custom = custom_scaler.fit_transform(X_train)\n",
    "X_test_custom = custom_scaler.transform(X_test)\n",
    "\n",
    "# Sklearn scaler\n",
    "sklearn_scaler = SklearnMinMaxScaler(feature_range=(0, 1))\n",
    "X_train_sklearn = sklearn_scaler.fit_transform(X_train)\n",
    "X_test_sklearn = sklearn_scaler.transform(X_test)\n",
    "\n",
    "# Compare results\n",
    "print(\"Custom Scaler - Train:\\n\", X_train_custom)\n",
    "print(\"Sklearn Scaler - Train:\\n\", X_train_sklearn)\n",
    "print(\"\\nCustom Scaler - Test:\\n\", X_test_custom)\n",
    "print(\"Sklearn Scaler - Test:\\n\", X_test_sklearn)\n",
    "\n",
    "\n",
    "print(\"\\nTrain arrays equal:\", np.allclose(X_train_custom, X_train_sklearn))\n",
    "print(\"Test arrays equal:\", np.allclose(X_test_custom, X_test_sklearn))\n"
   ]
  },
  {
   "cell_type": "markdown",
   "id": "3059e0d2",
   "metadata": {},
   "source": [
    "# Testing MaxAbsScaler"
   ]
  },
  {
   "cell_type": "code",
   "execution_count": 12,
   "id": "52e57ac1",
   "metadata": {},
   "outputs": [
    {
     "name": "stdout",
     "output_type": "stream",
     "text": [
      "Custom Scaler - Train:\n",
      " [[ 0.14285714 -0.25        0.33333333]\n",
      " [-0.57142857  0.625      -0.66666667]\n",
      " [ 1.         -1.          1.        ]]\n",
      "Sklearn Scaler - Train:\n",
      " [[ 0.14285714 -0.25        0.33333333]\n",
      " [-0.57142857  0.625      -0.66666667]\n",
      " [ 1.         -1.          1.        ]]\n",
      "\n",
      "Custom Scaler - Test:\n",
      " [[ 0.28571429 -0.375       0.44444444]\n",
      " [-0.71428571  0.75       -0.77777778]]\n",
      "Sklearn Scaler - Test:\n",
      " [[ 0.28571429 -0.375       0.44444444]\n",
      " [-0.71428571  0.75       -0.77777778]]\n",
      "\n",
      "Train arrays equal: True\n",
      "Test arrays equal: True\n"
     ]
    }
   ],
   "source": [
    "import numpy as np\n",
    "from sklearn.preprocessing import MaxAbsScaler as SklearnMaxAbsScaler\n",
    "\n",
    "\n",
    "# Sample data\n",
    "X_train = np.array([[1, -2, 3],\n",
    "                    [-4, 5, -6],\n",
    "                    [7, -8, 9]], dtype=float)\n",
    "\n",
    "X_test = np.array([[2, -3, 4],\n",
    "                   [-5, 6, -7]], dtype=float)\n",
    "\n",
    "# Custom scaler\n",
    "custom_scaler = MaxAbsScaler()\n",
    "X_train_custom = custom_scaler.fit_transform(X_train)\n",
    "X_test_custom = custom_scaler.transform(X_test)\n",
    "\n",
    "# Sklearn scaler\n",
    "sklearn_scaler = SklearnMaxAbsScaler()\n",
    "X_train_sklearn = sklearn_scaler.fit_transform(X_train)\n",
    "X_test_sklearn = sklearn_scaler.transform(X_test)\n",
    "\n",
    "# Compare results\n",
    "print(\"Custom Scaler - Train:\\n\", X_train_custom)\n",
    "print(\"Sklearn Scaler - Train:\\n\", X_train_sklearn)\n",
    "print(\"\\nCustom Scaler - Test:\\n\", X_test_custom)\n",
    "print(\"Sklearn Scaler - Test:\\n\", X_test_sklearn)\n",
    "\n",
    "# Check if arrays are almost equal\n",
    "print(\"\\nTrain arrays equal:\", np.allclose(X_train_custom, X_train_sklearn))\n",
    "print(\"Test arrays equal:\", np.allclose(X_test_custom, X_test_sklearn))\n"
   ]
  },
  {
   "cell_type": "code",
   "execution_count": null,
   "id": "0829b0b4",
   "metadata": {},
   "outputs": [],
   "source": []
  }
 ],
 "metadata": {
  "kernelspec": {
   "display_name": "base",
   "language": "python",
   "name": "python3"
  },
  "language_info": {
   "codemirror_mode": {
    "name": "ipython",
    "version": 3
   },
   "file_extension": ".py",
   "mimetype": "text/x-python",
   "name": "python",
   "nbconvert_exporter": "python",
   "pygments_lexer": "ipython3",
   "version": "3.12.7"
  }
 },
 "nbformat": 4,
 "nbformat_minor": 5
}
