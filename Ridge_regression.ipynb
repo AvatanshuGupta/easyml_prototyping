{
 "cells": [
  {
   "cell_type": "code",
   "execution_count": 10,
   "id": "00e7daf8",
   "metadata": {},
   "outputs": [],
   "source": [
    "import numpy as np\n",
    "import pandas as pd"
   ]
  },
  {
   "cell_type": "markdown",
   "id": "5c181d5e",
   "metadata": {},
   "source": [
    "# Ordinary Least Square Ridge Regression"
   ]
  },
  {
   "cell_type": "code",
   "execution_count": 11,
   "id": "b0c7047b",
   "metadata": {},
   "outputs": [],
   "source": [
    "class OLSRidge:\n",
    "    def __init__(self,alpha=0.1):\n",
    "        self.coef=None\n",
    "        self.intercept=None\n",
    "        self.alpha=alpha\n",
    "\n",
    "    def fit(self,X_train,y_train):\n",
    "        X_train=np.insert(X_train,0,1,axis=1)\n",
    "        I=np.identity(X_train.shape[1])\n",
    "        I[0][0]=0\n",
    "        beta=np.linalg.inv(np.dot(X_train.T,X_train)+self.alpha*I).dot(X_train.T).dot(y_train)\n",
    "        self.intercept=beta[0]\n",
    "        self.coef=beta[1:]\n",
    "\n",
    "    def predict(self,X_test):\n",
    "        return np.dot(X_test,self.coef)+self.intercept\n",
    "        \n",
    "        "
   ]
  },
  {
   "cell_type": "markdown",
   "id": "16ab1f0d",
   "metadata": {},
   "source": [
    "# Gradient Descent Ridge Regression"
   ]
  },
  {
   "cell_type": "code",
   "execution_count": 17,
   "id": "56565ceb",
   "metadata": {},
   "outputs": [],
   "source": [
    "class GDRidge:\n",
    "    def __init__(self,epochs,learning_rate,alpha):\n",
    "        self.learning_rate=learning_rate\n",
    "        self.epochs=epochs\n",
    "        self.alpha=alpha\n",
    "        self.intercept=None\n",
    "        self.coef=None\n",
    "\n",
    "    def fit(self,X_train,y_train):\n",
    "        self.coef=np.ones(X_train.shape[1])\n",
    "        self.intercept=0\n",
    "        thetha=np.insert(self.coef,0,self.intercept)\n",
    "        X_train=np.insert(X_train,0,1,axis=1)\n",
    "\n",
    "        for i in range(self.epochs):\n",
    "            thetha_der=np.dot(X_train.T,X_train).dot(thetha)-np.dot(X_train.T,y_train)+self.alpha*thetha\n",
    "            thetha=thetha-self.learning_rate*thetha_der\n",
    "        self.coef=thetha[1:]\n",
    "        self.intercept=thetha[0]\n",
    "    \n",
    "    def predict(self,X_test):\n",
    "        return np.dot(X_test,self.coef)+self.intercept\n",
    "\n",
    "        "
   ]
  },
  {
   "cell_type": "markdown",
   "id": "4ec798b3",
   "metadata": {},
   "source": [
    "# testing OLSRidge"
   ]
  },
  {
   "cell_type": "code",
   "execution_count": 13,
   "id": "5366feb3",
   "metadata": {},
   "outputs": [
    {
     "name": "stdout",
     "output_type": "stream",
     "text": [
      "Custom Ridge Coefficients: [60.78942109 93.13790238  8.74915074 -1.06748493 33.97542321 34.10982761\n",
      " 15.61194872]\n",
      "Sklearn Ridge Coefficients: [60.78942109 93.13790238  8.74915074 -1.06748493 33.97542321 34.10982761\n",
      " 15.61194872]\n",
      "Custom Ridge Intercept: 1.3582426049486596\n",
      "Sklearn Ridge Intercept: 1.3582426049486593\n",
      "Custom Ridge MSE: 3000.5284047513373\n",
      "Sklearn Ridge MSE: 3000.528404751338\n"
     ]
    }
   ],
   "source": [
    "import numpy as np\n",
    "from sklearn.linear_model import Ridge\n",
    "from sklearn.datasets import make_regression\n",
    "from sklearn.metrics import mean_squared_error\n",
    "\n",
    "\n",
    "\n",
    "#generate sample regression data\n",
    "X, y = make_regression(n_samples=1000, n_features=7, noise=50, random_state=42)\n",
    "\n",
    "#Split into train/test\n",
    "from sklearn.model_selection import train_test_split\n",
    "X_train, X_test, y_train, y_test = train_test_split(X, y, test_size=0.2, random_state=42)\n",
    "\n",
    "#Custom Ridge Regression\n",
    "my_ridge = OLSRidge(alpha=1.0)\n",
    "my_ridge.fit(X_train, y_train)\n",
    "y_pred_custom = my_ridge.predict(X_test)\n",
    "\n",
    "#Sklearn Ridge Regression\n",
    "sk_ridge = Ridge(alpha=1.0, fit_intercept=True)\n",
    "sk_ridge.fit(X_train, y_train)\n",
    "y_pred_sklearn = sk_ridge.predict(X_test)\n",
    "\n",
    "#Compare\n",
    "print(\"Custom Ridge Coefficients:\", my_ridge.coef)\n",
    "print(\"Sklearn Ridge Coefficients:\", sk_ridge.coef_)\n",
    "\n",
    "print(\"Custom Ridge Intercept:\", my_ridge.intercept)\n",
    "print(\"Sklearn Ridge Intercept:\", sk_ridge.intercept_)\n",
    "\n",
    "print(\"Custom Ridge MSE:\", mean_squared_error(y_test, y_pred_custom))\n",
    "print(\"Sklearn Ridge MSE:\", mean_squared_error(y_test, y_pred_sklearn))\n"
   ]
  },
  {
   "cell_type": "markdown",
   "id": "3c247bed",
   "metadata": {},
   "source": [
    "# testing GDRidge"
   ]
  },
  {
   "cell_type": "code",
   "execution_count": 23,
   "id": "1b4f75f7",
   "metadata": {},
   "outputs": [
    {
     "name": "stdout",
     "output_type": "stream",
     "text": [
      "Custom GDRidge Coefficients:\n",
      " [28.75197256 81.75205781 31.0283662  68.69718435 10.94001164]\n",
      "Sklearn Ridge Coefficients:\n",
      " [28.64988964 81.71018658 31.08572067 68.77988248 10.90070253]\n",
      "\n",
      "Custom GDRidge Intercept: 0.0459569392686471\n",
      "Sklearn Ridge Intercept: 0.04419975530348497\n",
      "\n",
      "Custom GDRidge R2 Score: 0.9910623807408622\n",
      "Sklearn Ridge R2 Score: 0.9910736268592321\n",
      "\n",
      "Max Coefficient Difference: 0.1020829201107567\n",
      "Intercept Difference: 0.0017571839651621332\n"
     ]
    }
   ],
   "source": [
    "import numpy as np\n",
    "from sklearn.datasets import make_regression\n",
    "from sklearn.model_selection import train_test_split\n",
    "from sklearn.linear_model import Ridge\n",
    "from sklearn.metrics import r2_score\n",
    "\n",
    "\n",
    "# Generate synthetic regression data\n",
    "X, y = make_regression(n_samples=500, n_features=5, noise=10, random_state=42)\n",
    "X_train, X_test, y_train, y_test = train_test_split(X, y, test_size=0.2, random_state=42)\n",
    "\n",
    "# Train custom GDRidge\n",
    "gd_model = GDRidge(epochs=1000, learning_rate=0.001, alpha=0.1)\n",
    "gd_model.fit(X_train, y_train)\n",
    "gd_preds = gd_model.predict(X_test)\n",
    "\n",
    "# Train sklearn Ridge using gradient-based solver\n",
    "sk_model = Ridge(alpha=0.1, solver='sag', max_iter=1000, tol=1e-3, random_state=42)\n",
    "sk_model.fit(X_train, y_train)\n",
    "sk_preds = sk_model.predict(X_test)\n",
    "\n",
    "# Compare\n",
    "print(\"Custom GDRidge Coefficients:\\n\", gd_model.coef)\n",
    "print(\"Sklearn Ridge Coefficients:\\n\", sk_model.coef_)\n",
    "\n",
    "print(\"\\nCustom GDRidge Intercept:\", gd_model.intercept)\n",
    "print(\"Sklearn Ridge Intercept:\", sk_model.intercept_)\n",
    "\n",
    "print(\"\\nCustom GDRidge R2 Score:\", r2_score(y_test, gd_preds))\n",
    "print(\"Sklearn Ridge R2 Score:\", r2_score(y_test, sk_preds))\n",
    "\n",
    "# Optional: Check difference\n",
    "print(\"\\nMax Coefficient Difference:\", np.abs(gd_model.coef - sk_model.coef_).max())\n",
    "print(\"Intercept Difference:\", abs(gd_model.intercept - sk_model.intercept_))\n"
   ]
  }
 ],
 "metadata": {
  "kernelspec": {
   "display_name": "base",
   "language": "python",
   "name": "python3"
  },
  "language_info": {
   "codemirror_mode": {
    "name": "ipython",
    "version": 3
   },
   "file_extension": ".py",
   "mimetype": "text/x-python",
   "name": "python",
   "nbconvert_exporter": "python",
   "pygments_lexer": "ipython3",
   "version": "3.12.7"
  }
 },
 "nbformat": 4,
 "nbformat_minor": 5
}
