{
 "cells": [
  {
   "cell_type": "code",
   "execution_count": 6,
   "id": "00e7daf8",
   "metadata": {},
   "outputs": [],
   "source": [
    "import numpy as np\n",
    "import pandas as pd"
   ]
  },
  {
   "cell_type": "code",
   "execution_count": 7,
   "id": "b0c7047b",
   "metadata": {},
   "outputs": [],
   "source": [
    "class RidgeRegression:\n",
    "    def __init__(self,alpha=0.1):\n",
    "        self.coef=None\n",
    "        self.intercept=None\n",
    "        self.alpha=alpha\n",
    "\n",
    "    def fit(self,X_train,y_train):\n",
    "        X_train=np.insert(X_train,0,1,axis=1)\n",
    "        I=np.identity(X_train.shape[1])\n",
    "        I[0][0]=0\n",
    "        beta=np.linalg.inv(np.dot(X_train.T,X_train)+self.alpha*I).dot(X_train.T).dot(y_train)\n",
    "        self.intercept=beta[0]\n",
    "        self.coef=beta[1:]\n",
    "\n",
    "    def predict(self,X_test):\n",
    "        return np.dot(X_test,self.coef)+self.intercept\n",
    "        \n",
    "        "
   ]
  },
  {
   "cell_type": "code",
   "execution_count": 8,
   "id": "5366feb3",
   "metadata": {},
   "outputs": [
    {
     "name": "stdout",
     "output_type": "stream",
     "text": [
      "Custom Ridge Coefficients: [60.78942109 93.13790238  8.74915074 -1.06748493 33.97542321 34.10982761\n",
      " 15.61194872]\n",
      "Sklearn Ridge Coefficients: [60.78942109 93.13790238  8.74915074 -1.06748493 33.97542321 34.10982761\n",
      " 15.61194872]\n",
      "Custom Ridge Intercept: 1.3582426049486596\n",
      "Sklearn Ridge Intercept: 1.3582426049486593\n",
      "Custom Ridge MSE: 3000.5284047513373\n",
      "Sklearn Ridge MSE: 3000.528404751338\n"
     ]
    }
   ],
   "source": [
    "import numpy as np\n",
    "from sklearn.linear_model import Ridge\n",
    "from sklearn.datasets import make_regression\n",
    "from sklearn.metrics import mean_squared_error\n",
    "\n",
    "\n",
    "\n",
    "#generate sample regression data\n",
    "X, y = make_regression(n_samples=1000, n_features=7, noise=50, random_state=42)\n",
    "\n",
    "#Split into train/test\n",
    "from sklearn.model_selection import train_test_split\n",
    "X_train, X_test, y_train, y_test = train_test_split(X, y, test_size=0.2, random_state=42)\n",
    "\n",
    "#Custom Ridge Regression\n",
    "my_ridge = RidgeRegression(alpha=1.0)\n",
    "my_ridge.fit(X_train, y_train)\n",
    "y_pred_custom = my_ridge.predict(X_test)\n",
    "\n",
    "#Sklearn Ridge Regression\n",
    "sk_ridge = Ridge(alpha=1.0, fit_intercept=True)\n",
    "sk_ridge.fit(X_train, y_train)\n",
    "y_pred_sklearn = sk_ridge.predict(X_test)\n",
    "\n",
    "#Compare\n",
    "print(\"Custom Ridge Coefficients:\", my_ridge.coef)\n",
    "print(\"Sklearn Ridge Coefficients:\", sk_ridge.coef_)\n",
    "\n",
    "print(\"Custom Ridge Intercept:\", my_ridge.intercept)\n",
    "print(\"Sklearn Ridge Intercept:\", sk_ridge.intercept_)\n",
    "\n",
    "print(\"Custom Ridge MSE:\", mean_squared_error(y_test, y_pred_custom))\n",
    "print(\"Sklearn Ridge MSE:\", mean_squared_error(y_test, y_pred_sklearn))\n"
   ]
  }
 ],
 "metadata": {
  "kernelspec": {
   "display_name": "base",
   "language": "python",
   "name": "python3"
  },
  "language_info": {
   "codemirror_mode": {
    "name": "ipython",
    "version": 3
   },
   "file_extension": ".py",
   "mimetype": "text/x-python",
   "name": "python",
   "nbconvert_exporter": "python",
   "pygments_lexer": "ipython3",
   "version": "3.12.7"
  }
 },
 "nbformat": 4,
 "nbformat_minor": 5
}
