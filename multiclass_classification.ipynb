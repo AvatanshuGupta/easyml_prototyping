{
 "cells": [
  {
   "cell_type": "code",
   "execution_count": null,
   "id": "4c974c18",
   "metadata": {},
   "outputs": [],
   "source": [
    "import numpy as np"
   ]
  },
  {
   "cell_type": "code",
   "execution_count": null,
   "id": "33bdea1c",
   "metadata": {},
   "outputs": [],
   "source": [
    "class Softmax_Classifier:\n",
    "    def __init__(self,epochs=1000,learning_rate=0.1):\n",
    "        self.w=None\n",
    "        self.b=None\n",
    "        self.no_of_class=None\n",
    "        self.epochs=epochs\n",
    "        self.learning_rate=learning_rate\n",
    "\n",
    "    def softmax(self,z):\n",
    "        num=np.exp(z-np.max(z,axis=1,keepdims=True))\n",
    "        return num/np.sum(num(z),axis=1,keepdims=True)\n",
    "    \n",
    "    def one_hot(self,y):\n",
    "        one_hot=np.zeros((y.shape[0],self.no_of_class))\n",
    "        for i in range(y.shape[0]):\n",
    "            one_hot[i,y[i]]=1\n",
    "        return one_hot\n",
    "    def cross_entropy_loss(self):\n",
    "        pass\n",
    "\n",
    "    def fit(self,X,y):\n",
    "        # m-row n-column\n",
    "        m,n=X.shape\n",
    "        # number of classes\n",
    "        self.no_of_class=np.max(y)+1\n",
    "        self.w=np.zeros(m,self.no_of_class)\n",
    "        self.b=np.zeros(1,self.no_of_class)\n",
    "        for epoch in range(self.epochs):\n",
    "            z=np.dot(X,self.w)+self.b\n",
    "            y_hat=self.softmax(z)\n",
    "            y_true=self.one_hot(y)\n",
    "\n",
    "            loss=self.loss_function()\n",
    "            \n",
    "\n",
    "            \n",
    "\n",
    "\n",
    "\n",
    "\n",
    "        "
   ]
  }
 ],
 "metadata": {
  "kernelspec": {
   "display_name": "base",
   "language": "python",
   "name": "python3"
  },
  "language_info": {
   "codemirror_mode": {
    "name": "ipython",
    "version": 3
   },
   "file_extension": ".py",
   "mimetype": "text/x-python",
   "name": "python",
   "nbconvert_exporter": "python",
   "pygments_lexer": "ipython3",
   "version": "3.12.7"
  }
 },
 "nbformat": 4,
 "nbformat_minor": 5
}
