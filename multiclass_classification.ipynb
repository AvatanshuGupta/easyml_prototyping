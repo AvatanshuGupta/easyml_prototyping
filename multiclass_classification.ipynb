{
 "cells": [
  {
   "cell_type": "code",
   "execution_count": 2,
   "id": "4c974c18",
   "metadata": {},
   "outputs": [],
   "source": [
    "import numpy as np"
   ]
  },
  {
   "cell_type": "code",
   "execution_count": null,
   "id": "33bdea1c",
   "metadata": {},
   "outputs": [],
   "source": [
    "class Softmax_Classifier:\n",
    "    def __init__(self,epochs=1000,learning_rate=0.1):\n",
    "        self.w=None\n",
    "        self.b=None\n",
    "        self.epochs=epochs\n",
    "        self.learning_rate=learning_rate\n",
    "        \n",
    "        "
   ]
  }
 ],
 "metadata": {
  "kernelspec": {
   "display_name": "base",
   "language": "python",
   "name": "python3"
  },
  "language_info": {
   "codemirror_mode": {
    "name": "ipython",
    "version": 3
   },
   "file_extension": ".py",
   "mimetype": "text/x-python",
   "name": "python",
   "nbconvert_exporter": "python",
   "pygments_lexer": "ipython3",
   "version": "3.12.7"
  }
 },
 "nbformat": 4,
 "nbformat_minor": 5
}
