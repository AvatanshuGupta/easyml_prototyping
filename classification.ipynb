{
 "cells": [
  {
   "cell_type": "code",
   "execution_count": 7,
   "id": "9090e3db",
   "metadata": {},
   "outputs": [],
   "source": [
    "import numpy as np\n",
    "import pandas as pd"
   ]
  },
  {
   "cell_type": "markdown",
   "id": "29d05b6f",
   "metadata": {},
   "source": [
    "# perceptron binary class Classification"
   ]
  },
  {
   "cell_type": "code",
   "execution_count": 8,
   "id": "fa6a83ad",
   "metadata": {},
   "outputs": [],
   "source": [
    "class binary_classification():\n",
    "    def __init__(self,epochs,learning_rate=0.1):\n",
    "        self.epochs=epochs\n",
    "        self.learning_rate=learning_rate\n",
    "        self.weights=None\n",
    "    \n",
    "    def sigmoid(self,z):\n",
    "        return 1/(1+np.exp(-z))\n",
    "\n",
    "    def fit(self,X,y):\n",
    "        X=np.insert(X,0,1,axis=1)\n",
    "        self.weights=np.ones(X.shape[1])\n",
    "        for i in range(self.epochs):\n",
    "            y_hat=self.sigmoid(np.dot(X,self.weights))\n",
    "            self.weights+=self.learning_rate*(np.dot((y-y_hat),X)/X.shape[0])\n",
    "         \n",
    "    def predict(self,X):\n",
    "        X=np.insert(X,0,1,axis=1)\n",
    "        z=np.dot(X,self.weights)\n",
    "        prediction=self.sigmoid(z)\n",
    "        return (prediction>=0.5).astype(int)\n",
    "        \n",
    "\n"
   ]
  },
  {
   "cell_type": "code",
   "execution_count": 9,
   "id": "e5d79f68",
   "metadata": {},
   "outputs": [
    {
     "name": "stdout",
     "output_type": "stream",
     "text": [
      "Custom Model Accuracy:   81.99 %\n",
      "Sklearn Model Accuracy:  81.98 %\n"
     ]
    }
   ],
   "source": [
    "import numpy as np\n",
    "from sklearn.linear_model import LogisticRegression\n",
    "from sklearn.metrics import accuracy_score\n",
    "from sklearn.model_selection import train_test_split\n",
    "from sklearn.datasets import make_classification\n",
    "\n",
    "X, y = make_classification(n_samples=100000, n_features=7, n_informative=3,\n",
    "                           n_redundant=0, n_clusters_per_class=4, random_state=42)\n",
    "\n",
    "# Split into train and test\n",
    "X_train, X_test, y_train, y_test = train_test_split(X, y, test_size=0.2, random_state=42)\n",
    "\n",
    "#custom model\n",
    "my_model = binary_classification(epochs=1000, learning_rate=0.1)\n",
    "my_model.fit(X_train, y_train)\n",
    "y_pred_custom = my_model.predict(X_test)\n",
    "\n",
    "#sklearn model\n",
    "sk_model = LogisticRegression()\n",
    "sk_model.fit(X_train, y_train)\n",
    "y_pred_sk = sk_model.predict(X_test)\n",
    "\n",
    "# Compare performance\n",
    "acc_custom = accuracy_score(y_test, y_pred_custom)\n",
    "acc_sklearn = accuracy_score(y_test, y_pred_sk)\n",
    "\n",
    "print(\"Custom Model Accuracy:  \", round(acc_custom * 100, 2), \"%\")\n",
    "print(\"Sklearn Model Accuracy: \", round(acc_sklearn * 100, 2), \"%\")\n"
   ]
  }
 ],
 "metadata": {
  "kernelspec": {
   "display_name": "base",
   "language": "python",
   "name": "python3"
  },
  "language_info": {
   "codemirror_mode": {
    "name": "ipython",
    "version": 3
   },
   "file_extension": ".py",
   "mimetype": "text/x-python",
   "name": "python",
   "nbconvert_exporter": "python",
   "pygments_lexer": "ipython3",
   "version": "3.12.7"
  }
 },
 "nbformat": 4,
 "nbformat_minor": 5
}
